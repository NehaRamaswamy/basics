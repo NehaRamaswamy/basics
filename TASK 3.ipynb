{
 "cells": [
  {
   "cell_type": "markdown",
   "id": "81d0e952",
   "metadata": {},
   "source": [
    "# Task 3 : Email Validator"
   ]
  },
  {
   "cell_type": "code",
   "execution_count": 1,
   "id": "5999090e",
   "metadata": {},
   "outputs": [
    {
     "name": "stdout",
     "output_type": "stream",
     "text": [
      "Enter an email address: shree12@gamil.com\n",
      "shree12@gamil.com is a valid email address.\n"
     ]
    }
   ],
   "source": [
    "import re\n",
    "\n",
    "def is_valid_email(email):\n",
    "    # Regular expression pattern for a basic email validation\n",
    "    email_pattern = re.compile(r'^[a-zA-Z0-9._%+-]+@[a-zA-Z0-9.-]+\\.[a-zA-Z]{2,}$')\n",
    "\n",
    "    # Check if the email matches the pattern\n",
    "    if email_pattern.match(email):\n",
    "        return True\n",
    "    else:\n",
    "        return False\n",
    "\n",
    "# Example usage:\n",
    "email_input = input(\"Enter an email address: \")\n",
    "if is_valid_email(email_input):\n",
    "    print(f\"{email_input} is a valid email address.\")\n",
    "else:\n",
    "    print(f\"{email_input} is not a valid email address.\")\n"
   ]
  },
  {
   "cell_type": "code",
   "execution_count": null,
   "id": "fa7e8c93",
   "metadata": {},
   "outputs": [],
   "source": []
  }
 ],
 "metadata": {
  "kernelspec": {
   "display_name": "Python 3 (ipykernel)",
   "language": "python",
   "name": "python3"
  },
  "language_info": {
   "codemirror_mode": {
    "name": "ipython",
    "version": 3
   },
   "file_extension": ".py",
   "mimetype": "text/x-python",
   "name": "python",
   "nbconvert_exporter": "python",
   "pygments_lexer": "ipython3",
   "version": "3.11.5"
  }
 },
 "nbformat": 4,
 "nbformat_minor": 5
}
