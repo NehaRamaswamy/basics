{
 "cells": [
  {
   "cell_type": "markdown",
   "id": "91f2fa96",
   "metadata": {},
   "source": [
    "# Task 5 : Palindrome Checker"
   ]
  },
  {
   "cell_type": "code",
   "execution_count": 1,
   "id": "e18055bb",
   "metadata": {},
   "outputs": [
    {
     "name": "stdout",
     "output_type": "stream",
     "text": [
      "Enter the string\tRacecar\n",
      "True\n"
     ]
    }
   ],
   "source": [
    "def check_palin(s):\n",
    "    s = s.lower()\n",
    "    i = 0\n",
    "    j = len(s) - 1\n",
    "    while i < j:\n",
    "        if not s[i].isalnum():\n",
    "            i += 1\n",
    "        elif not s[j].isalnum():\n",
    "            j -= 1\n",
    "        elif s[i] != s[j]:\n",
    "            return False\n",
    "        else:\n",
    "            i += 1\n",
    "            j -= 1\n",
    "    return True\n",
    "\n",
    "s=input(\"Enter the string\\t\")\n",
    "print(check_palin(s))"
   ]
  },
  {
   "cell_type": "code",
   "execution_count": null,
   "id": "b955a45e",
   "metadata": {},
   "outputs": [],
   "source": []
  }
 ],
 "metadata": {
  "kernelspec": {
   "display_name": "Python 3 (ipykernel)",
   "language": "python",
   "name": "python3"
  },
  "language_info": {
   "codemirror_mode": {
    "name": "ipython",
    "version": 3
   },
   "file_extension": ".py",
   "mimetype": "text/x-python",
   "name": "python",
   "nbconvert_exporter": "python",
   "pygments_lexer": "ipython3",
   "version": "3.11.5"
  }
 },
 "nbformat": 4,
 "nbformat_minor": 5
}
