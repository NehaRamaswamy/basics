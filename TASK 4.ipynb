{
 "cells": [
  {
   "cell_type": "markdown",
   "id": "482e5d47",
   "metadata": {},
   "source": [
    "# Task 4 : Calculator Program"
   ]
  },
  {
   "cell_type": "code",
   "execution_count": 15,
   "id": "0e695cf3",
   "metadata": {},
   "outputs": [
    {
     "name": "stdout",
     "output_type": "stream",
     "text": [
      "Enter the first number:12\n",
      "Enter the second  number:45\n",
      "\n",
      "1.ADDITION\n",
      "2.SUBTRACTION\n",
      "3.MULTIPLICATION\n",
      "4.DIVISION\n",
      "5.Mean(%)\n",
      "Enter your choice(1/2/3/4/5):1\n",
      "12 + 45 = 57\n",
      "\n",
      "Do you want to continue(Y/N)y\n",
      "Enter the first number:25\n",
      "Enter the second  number:19\n",
      "\n",
      "1.ADDITION\n",
      "2.SUBTRACTION\n",
      "3.MULTIPLICATION\n",
      "4.DIVISION\n",
      "5.Mean(%)\n",
      "Enter your choice(1/2/3/4/5):2\n",
      "25 - 19 = 6\n",
      "\n",
      "Do you want to continue(Y/N)y\n",
      "Enter the first number:15\n",
      "Enter the second  number:6\n",
      "\n",
      "1.ADDITION\n",
      "2.SUBTRACTION\n",
      "3.MULTIPLICATION\n",
      "4.DIVISION\n",
      "5.Mean(%)\n",
      "Enter your choice(1/2/3/4/5):3\n",
      "15 * 6 = 90\n",
      "\n",
      "Do you want to continue(Y/N)y\n",
      "Enter the first number:25\n",
      "Enter the second  number:6\n",
      "\n",
      "1.ADDITION\n",
      "2.SUBTRACTION\n",
      "3.MULTIPLICATION\n",
      "4.DIVISION\n",
      "5.Mean(%)\n",
      "Enter your choice(1/2/3/4/5):4\n",
      "25 / 6 = 4.166666666666667\n",
      "\n",
      "Do you want to continue(Y/N)y\n",
      "Enter the first number:52\n",
      "Enter the second  number:5\n",
      "\n",
      "1.ADDITION\n",
      "2.SUBTRACTION\n",
      "3.MULTIPLICATION\n",
      "4.DIVISION\n",
      "5.Mean(%)\n",
      "Enter your choice(1/2/3/4/5):5\n",
      "52 % 5 = 2.0\n",
      "\n",
      "Do you want to continue(Y/N)n\n"
     ]
    }
   ],
   "source": [
    "ans='Y'\n",
    "# using the while loop continue the iteration untill ans='N'\n",
    "while ans=='Y':\n",
    "    n1=int(input(\"Enter the first number:\"))\n",
    "    n2=int(input(\"Enter the second  number:\"))\n",
    "    print(\"\\n1.ADDITION\\n2.SUBTRACTION\\n3.MULTIPLICATION\\n4.DIVISION\\n5.Mean(%)\")\n",
    "    choice=int(input(\"Enter your choice(1/2/3/4/5):\"))\n",
    "    if choice==1:\n",
    "        print(n1,'+',n2,'=',n1+n2)\n",
    "    elif choice==2:\n",
    "        print(n1,'-',n2,'=',n1-n2)\n",
    "    elif choice==3:\n",
    "        print(n1,'*',n2,'=',n1*n2)\n",
    "    elif choice==4:\n",
    "        if n2==0:\n",
    "            print(\"Infinity\")\n",
    "        else:\n",
    "               print(n1,'/',n2,'=',n1/n2)\n",
    "    elif choice==5:\n",
    "        s=float(n1%n2)\n",
    "        print(n1,'%',n2,'=',s)\n",
    "    else:\n",
    "        print('Invalid choice')\n",
    "    ans=input(\"\\nDo you want to continue(Y/N)\")\n",
    "    ans=ans.upper()\n",
    "\n",
    "    \n",
    "    "
   ]
  },
  {
   "cell_type": "code",
   "execution_count": null,
   "id": "e1ca10b6",
   "metadata": {},
   "outputs": [],
   "source": []
  }
 ],
 "metadata": {
  "kernelspec": {
   "display_name": "Python 3 (ipykernel)",
   "language": "python",
   "name": "python3"
  },
  "language_info": {
   "codemirror_mode": {
    "name": "ipython",
    "version": 3
   },
   "file_extension": ".py",
   "mimetype": "text/x-python",
   "name": "python",
   "nbconvert_exporter": "python",
   "pygments_lexer": "ipython3",
   "version": "3.11.5"
  }
 },
 "nbformat": 4,
 "nbformat_minor": 5
}
