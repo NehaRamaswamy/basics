{
 "cells": [
  {
   "cell_type": "markdown",
   "id": "98b489c7",
   "metadata": {},
   "source": [
    "# Task 2 : Temperature Conversion"
   ]
  },
  {
   "cell_type": "code",
   "execution_count": 1,
   "id": "0db677c5",
   "metadata": {},
   "outputs": [
    {
     "name": "stdout",
     "output_type": "stream",
     "text": [
      "Enter the temperature:104\n",
      "Enter the unit to measure(Celsius is C or Fahrenheit is F)f\n",
      "The temperature is converted to Celsius is 40.0 C\n"
     ]
    }
   ],
   "source": [
    "# perform the conversion based on user input\n",
    "def convert(temp,unit):\n",
    "    # Check if the input is in uppercase 'C'\n",
    "    if unit== 'C':\n",
    "        #convert the celsius to fahrenheit using formula\n",
    "        temp=(temp * 9/5) + 32\n",
    "        print(\"The temperature is converted to Fahrenheit is\", temp ,\"F\")\n",
    "    \n",
    "    # check if the input is in uppercase 'F'\n",
    "    elif unit== 'F':\n",
    "        #Convert to the Celsius using the formula for it \n",
    "        temp=(temp- 32) * 5/9\n",
    "        print(\"The temperature is converted to Celsius is\",temp,\"C\")\n",
    "    \n",
    "    #check if the input is neither 'C' nor 'F', then print the error message\n",
    "    else:\n",
    "        print(\"Please enter the mention units only\")\n",
    "\n",
    "#taking the input from the prompt \n",
    "temp=float(input(\"Enter the temperature:\"))\n",
    "unit=input(\"Enter the unit to measure(Celsius is C or Fahrenheit is F)\")\n",
    "\n",
    "unit=unit.upper() # convert the unit to the upper is user enter in lower case\n",
    "convert(temp,unit) #calling the function and passing the parameters"
   ]
  },
  {
   "cell_type": "code",
   "execution_count": null,
   "id": "5f8e6277",
   "metadata": {},
   "outputs": [],
   "source": []
  }
 ],
 "metadata": {
  "kernelspec": {
   "display_name": "Python 3 (ipykernel)",
   "language": "python",
   "name": "python3"
  },
  "language_info": {
   "codemirror_mode": {
    "name": "ipython",
    "version": 3
   },
   "file_extension": ".py",
   "mimetype": "text/x-python",
   "name": "python",
   "nbconvert_exporter": "python",
   "pygments_lexer": "ipython3",
   "version": "3.11.5"
  }
 },
 "nbformat": 4,
 "nbformat_minor": 5
}
