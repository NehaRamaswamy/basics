{
 "cells": [
  {
   "cell_type": "markdown",
   "id": "ca6615d7",
   "metadata": {},
   "source": [
    "# Task 1 :String Reversal"
   ]
  },
  {
   "cell_type": "code",
   "execution_count": 1,
   "id": "07bacd79",
   "metadata": {},
   "outputs": [
    {
     "name": "stdout",
     "output_type": "stream",
     "text": [
      "Enter the string to reverse\tString Reversal\n",
      "\n",
      "Reversed string is lasreveR gnirtS\n"
     ]
    }
   ],
   "source": [
    "#declare the function revs and receiving string parameter\n",
    "def revs(strs):\n",
    "    strs =strs[::-1]\n",
    "    return strs    \n",
    "\n",
    "#taking the input from the prompt\n",
    "n=input(\"Enter the string to reverse\\t\")\n",
    "\n",
    "# calling the function revs by passing the parameter and display the output\n",
    "print(\"\\nReversed string is\",revs(n))"
   ]
  },
  {
   "cell_type": "code",
   "execution_count": null,
   "id": "4dd9434c",
   "metadata": {},
   "outputs": [],
   "source": []
  }
 ],
 "metadata": {
  "kernelspec": {
   "display_name": "Python 3 (ipykernel)",
   "language": "python",
   "name": "python3"
  },
  "language_info": {
   "codemirror_mode": {
    "name": "ipython",
    "version": 3
   },
   "file_extension": ".py",
   "mimetype": "text/x-python",
   "name": "python",
   "nbconvert_exporter": "python",
   "pygments_lexer": "ipython3",
   "version": "3.11.5"
  }
 },
 "nbformat": 4,
 "nbformat_minor": 5
}
